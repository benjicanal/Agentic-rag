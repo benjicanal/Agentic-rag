{
 "cells": [
  {
   "cell_type": "markdown",
   "id": "50c31e6a",
   "metadata": {},
   "source": [
    "# RAG System from scratch"
   ]
  },
  {
   "cell_type": "markdown",
   "id": "db7026e7",
   "metadata": {},
   "source": [
    "# 1. Load Documents"
   ]
  },
  {
   "cell_type": "markdown",
   "id": "5c29c118",
   "metadata": {},
   "source": []
  },
  {
   "cell_type": "code",
   "execution_count": 48,
   "id": "3204d27e",
   "metadata": {},
   "outputs": [
    {
     "name": "stderr",
     "output_type": "stream",
     "text": [
      "Ignoring wrong pointing object 9 0 (offset 0)\n",
      "Ignoring wrong pointing object 11 0 (offset 0)\n",
      "Ignoring wrong pointing object 13 0 (offset 0)\n",
      "Ignoring wrong pointing object 15 0 (offset 0)\n",
      "Ignoring wrong pointing object 17 0 (offset 0)\n",
      "Ignoring wrong pointing object 19 0 (offset 0)\n",
      "Ignoring wrong pointing object 21 0 (offset 0)\n",
      "Ignoring wrong pointing object 31 0 (offset 0)\n",
      "Ignoring wrong pointing object 33 0 (offset 0)\n",
      "Ignoring wrong pointing object 43 0 (offset 0)\n"
     ]
    }
   ],
   "source": [
    "from pypdf import PdfReader\n",
    "import re\n",
    "import os \n",
    "\n",
    "file_path =\"/Users/benjamin/src/Agentic-rag/data/Accident vasculaire cérébral (AVC) – Santé publique France.pdf\"\n",
    "\n",
    "reader = PdfReader(file_path)"
   ]
  },
  {
   "cell_type": "code",
   "execution_count": 49,
   "id": "5fcd11b0",
   "metadata": {},
   "outputs": [
    {
     "data": {
      "text/plain": [
       "4"
      ]
     },
     "execution_count": 49,
     "metadata": {},
     "output_type": "execute_result"
    }
   ],
   "source": [
    "text = reader.pages\n",
    "len(text)"
   ]
  },
  {
   "cell_type": "code",
   "execution_count": 50,
   "id": "bcaae43e",
   "metadata": {},
   "outputs": [
    {
     "data": {
      "text/plain": [
       "'Accident vasculaire cérébral (AVC) – Santé publique FranceLes chiffres-clés de l’AVCDes facteurs de risque à dépisterLa prévention des AVC repose principalement sur le dépistage et le traitement desfacteurs de risque vasculaires individuels (hypertension artérielle, tabagisme,hypercholestérolémie, diabète, troubles du rythme cardiaque, obésité, sédentarité).Des facteurs environnementaux comme la pollution atmosphérique ont également étéidenti;és comme facteurs de risque d’AVC. Renseignements administratifs des registres des AVCRegistre des accidents vasculaires cérébraux de DijonDirecteur : Professeur Maurice GIROUD, Médecin – PU-PHDirecteur scienti;que : Professeur Yannick BEJOT, Médecin - PU-PHRegistre Dijonnais des AVC, EA4184, UFR Sciences de Santé Dijon, Université deBourgogneHôpital François Mitterrand, 14 rue Paul Gaffarel, BP 7790821079 Dijon cedexRegistre des accidents vasculaires cérébraux de LilleResponsable scienti;que et administratifProfesseur Philippe AMOUYEL, Médecin – PU-PHService d’épidémiologie et de santé publique / Inserm U1167Institut Pasteur de Lille1 rue Calmette 59019 Lille cedexTéléphone : + 33 (0)3 20 87 77 10Télécopie : +33 (0)3 20 87 78 94\\ue90c'"
      ]
     },
     "execution_count": 50,
     "metadata": {},
     "output_type": "execute_result"
    }
   ],
   "source": [
    "text = reader.pages[2].extract_text()\n",
    "text = text.replace('\\xa0', ' ')  # espaces insécables\n",
    "text = re.sub(r'\\n+', '\\n', text)  # supprimer les sauts de ligne multiples\n",
    "text = re.sub(r'Page\\s+\\d+\\s+sur\\s+\\d+', '', text)\n",
    "text = re.sub(r'https?://\\S+', '', text)  # supprimer les URLs\n",
    "text = re.sub(r'\\d{2}/\\d{2}/\\d{4}\\s+\\d{2}:\\d{2}', '', text)\n",
    "text = text.replace('\\n','')\n",
    "text"
   ]
  },
  {
   "cell_type": "markdown",
   "id": "ac81f512",
   "metadata": {},
   "source": [
    "## 2.Chunks the documents (we'll split the documents into pages for the exemple purpose)"
   ]
  },
  {
   "cell_type": "code",
   "execution_count": 51,
   "id": "d0b0f1e0",
   "metadata": {},
   "outputs": [],
   "source": [
    "def extract_pages(folder : str): \n",
    "    for filename in os.listdir(folder):\n",
    "        \n",
    "        if filename.endswith(\".pdf\"):\n",
    "            document_path = os.path.join(folder, filename)\n",
    "            reader = PdfReader(document_path)\n",
    "            \n",
    "        for i,page in enumerate(reader.pages):\n",
    "            text = page.extract_text()\n",
    "            text = text.replace('\\xa0', ' ')  # espaces insécables\n",
    "            text = re.sub(r'\\n+', '\\n', text)  # supprimer les sauts de ligne\n",
    "            text = re.sub(r'Page\\s+\\d+\\s+sur\\s+\\d+', '', text)\n",
    "            text = re.sub(r'https?://\\S+', '', text)  # supprimer les URL\n",
    "            text = re.sub(r'\\d{2}/\\d{2}/\\d{4}\\s+\\d{2}:\\d{2}', '', text)\n",
    "            text = text.replace('\\n','')\n",
    "            \n",
    "            yield {\n",
    "                \"document\": document_path,\n",
    "                \"page\": i,\n",
    "                \"text\": text\n",
    "            }"
   ]
  },
  {
   "cell_type": "code",
   "execution_count": 52,
   "id": "b797a09d",
   "metadata": {},
   "outputs": [
    {
     "name": "stderr",
     "output_type": "stream",
     "text": [
      "Ignoring wrong pointing object 9 0 (offset 0)\n",
      "Ignoring wrong pointing object 11 0 (offset 0)\n",
      "Ignoring wrong pointing object 13 0 (offset 0)\n",
      "Ignoring wrong pointing object 15 0 (offset 0)\n",
      "Ignoring wrong pointing object 17 0 (offset 0)\n",
      "Ignoring wrong pointing object 19 0 (offset 0)\n",
      "Ignoring wrong pointing object 28 0 (offset 0)\n",
      "Ignoring wrong pointing object 30 0 (offset 0)\n",
      "Ignoring wrong pointing object 32 0 (offset 0)\n",
      "Ignoring wrong pointing object 51 0 (offset 0)\n",
      "Ignoring wrong pointing object 88 0 (offset 0)\n"
     ]
    },
    {
     "name": "stdout",
     "output_type": "stream",
     "text": [
      "/Users/benjamin/src/Agentic-rag/data/Cancers de la peau | Santé publique France.pdf 0\n",
      "Cancers de la peau | Santé publique FranceCancers de la peauAccueil Maladies et traumatismesCancersCancers de la peau : les maladiesLes cancers de la peau pourraient constituer le cancer le plus fréquent enFrance. Attribuables dans plus de 85% des cas à une exposition excessiveaux ultraviolets (UV) naturels ou artiAciels, ils peuvent être évités grâce àune exposition raisonnée. Chaque année, entre 141 200 et 243 500 cassont diagnostiqués en France.Mis à jour le 13 juillet 2023Nos missionsSurveiller l’évolution épidémiologique des cancers de la peau (mélanomes cutanéset autres cancers cutanés) Participer à l’expertise sur la surveillance épidémiologique et les politiques deprévention de l’exposition aux UVDécrire et suivre les comportements et les connaissances de la population surl’exposition aux UVInformer sur les dangers d’une exposition excessive aux UV et promouvoir lesprincipaux gestes de prévention\n",
      "\n",
      "\n"
     ]
    }
   ],
   "source": [
    "for doc in extract_pages(\"/Users/benjamin/src/Agentic-rag/data\"):\n",
    "    print(doc[\"document\"], doc[\"page\"])\n",
    "    print(doc[\"text\"])\n",
    "    print(\"\\n\")\n",
    "    break  "
   ]
  },
  {
   "cell_type": "code",
   "execution_count": 54,
   "id": "b34fb436",
   "metadata": {},
   "outputs": [
    {
     "name": "stderr",
     "output_type": "stream",
     "text": [
      "Ignoring wrong pointing object 9 0 (offset 0)\n",
      "Ignoring wrong pointing object 11 0 (offset 0)\n",
      "Ignoring wrong pointing object 13 0 (offset 0)\n",
      "Ignoring wrong pointing object 15 0 (offset 0)\n",
      "Ignoring wrong pointing object 17 0 (offset 0)\n",
      "Ignoring wrong pointing object 19 0 (offset 0)\n",
      "Ignoring wrong pointing object 28 0 (offset 0)\n",
      "Ignoring wrong pointing object 30 0 (offset 0)\n",
      "Ignoring wrong pointing object 32 0 (offset 0)\n",
      "Ignoring wrong pointing object 51 0 (offset 0)\n",
      "Ignoring wrong pointing object 88 0 (offset 0)\n",
      "Ignoring wrong pointing object 9 0 (offset 0)\n",
      "Ignoring wrong pointing object 11 0 (offset 0)\n",
      "Ignoring wrong pointing object 13 0 (offset 0)\n",
      "Ignoring wrong pointing object 15 0 (offset 0)\n",
      "Ignoring wrong pointing object 17 0 (offset 0)\n",
      "Ignoring wrong pointing object 19 0 (offset 0)\n",
      "Ignoring wrong pointing object 27 0 (offset 0)\n",
      "Ignoring wrong pointing object 9 0 (offset 0)\n",
      "Ignoring wrong pointing object 11 0 (offset 0)\n",
      "Ignoring wrong pointing object 13 0 (offset 0)\n",
      "Ignoring wrong pointing object 15 0 (offset 0)\n",
      "Ignoring wrong pointing object 17 0 (offset 0)\n",
      "Ignoring wrong pointing object 19 0 (offset 0)\n",
      "Ignoring wrong pointing object 28 0 (offset 0)\n",
      "Ignoring wrong pointing object 9 0 (offset 0)\n",
      "Ignoring wrong pointing object 11 0 (offset 0)\n",
      "Ignoring wrong pointing object 13 0 (offset 0)\n",
      "Ignoring wrong pointing object 15 0 (offset 0)\n",
      "Ignoring wrong pointing object 17 0 (offset 0)\n",
      "Ignoring wrong pointing object 26 0 (offset 0)\n",
      "Ignoring wrong pointing object 28 0 (offset 0)\n",
      "Ignoring wrong pointing object 30 0 (offset 0)\n",
      "Ignoring wrong pointing object 32 0 (offset 0)\n",
      "Ignoring wrong pointing object 9 0 (offset 0)\n",
      "Ignoring wrong pointing object 11 0 (offset 0)\n",
      "Ignoring wrong pointing object 13 0 (offset 0)\n",
      "Ignoring wrong pointing object 15 0 (offset 0)\n",
      "Ignoring wrong pointing object 17 0 (offset 0)\n",
      "Ignoring wrong pointing object 19 0 (offset 0)\n",
      "Ignoring wrong pointing object 28 0 (offset 0)\n",
      "Ignoring wrong pointing object 41 0 (offset 0)\n",
      "Ignoring wrong pointing object 9 0 (offset 0)\n",
      "Ignoring wrong pointing object 11 0 (offset 0)\n",
      "Ignoring wrong pointing object 13 0 (offset 0)\n",
      "Ignoring wrong pointing object 15 0 (offset 0)\n",
      "Ignoring wrong pointing object 17 0 (offset 0)\n",
      "Ignoring wrong pointing object 19 0 (offset 0)\n",
      "Ignoring wrong pointing object 21 0 (offset 0)\n",
      "Ignoring wrong pointing object 30 0 (offset 0)\n",
      "Ignoring wrong pointing object 37 0 (offset 0)\n",
      "Ignoring wrong pointing object 39 0 (offset 0)\n",
      "Ignoring wrong pointing object 9 0 (offset 0)\n",
      "Ignoring wrong pointing object 11 0 (offset 0)\n",
      "Ignoring wrong pointing object 13 0 (offset 0)\n",
      "Ignoring wrong pointing object 15 0 (offset 0)\n",
      "Ignoring wrong pointing object 17 0 (offset 0)\n",
      "Ignoring wrong pointing object 19 0 (offset 0)\n",
      "Ignoring wrong pointing object 21 0 (offset 0)\n",
      "Ignoring wrong pointing object 41 0 (offset 0)\n",
      "Ignoring wrong pointing object 44 0 (offset 0)\n",
      "Ignoring wrong pointing object 9 0 (offset 0)\n",
      "Ignoring wrong pointing object 11 0 (offset 0)\n",
      "Ignoring wrong pointing object 13 0 (offset 0)\n",
      "Ignoring wrong pointing object 15 0 (offset 0)\n",
      "Ignoring wrong pointing object 17 0 (offset 0)\n",
      "Ignoring wrong pointing object 19 0 (offset 0)\n",
      "Ignoring wrong pointing object 21 0 (offset 0)\n",
      "Ignoring wrong pointing object 31 0 (offset 0)\n",
      "Ignoring wrong pointing object 33 0 (offset 0)\n",
      "Ignoring wrong pointing object 9 0 (offset 0)\n",
      "Ignoring wrong pointing object 11 0 (offset 0)\n",
      "Ignoring wrong pointing object 13 0 (offset 0)\n",
      "Ignoring wrong pointing object 15 0 (offset 0)\n",
      "Ignoring wrong pointing object 17 0 (offset 0)\n",
      "Ignoring wrong pointing object 19 0 (offset 0)\n",
      "Ignoring wrong pointing object 21 0 (offset 0)\n",
      "Ignoring wrong pointing object 23 0 (offset 0)\n",
      "Ignoring wrong pointing object 49 0 (offset 0)\n",
      "Ignoring wrong pointing object 9 0 (offset 0)\n",
      "Ignoring wrong pointing object 11 0 (offset 0)\n",
      "Ignoring wrong pointing object 13 0 (offset 0)\n",
      "Ignoring wrong pointing object 15 0 (offset 0)\n",
      "Ignoring wrong pointing object 17 0 (offset 0)\n",
      "Ignoring wrong pointing object 19 0 (offset 0)\n",
      "Ignoring wrong pointing object 28 0 (offset 0)\n",
      "Ignoring wrong pointing object 52 0 (offset 0)\n",
      "Ignoring wrong pointing object 9 0 (offset 0)\n",
      "Ignoring wrong pointing object 11 0 (offset 0)\n",
      "Ignoring wrong pointing object 13 0 (offset 0)\n",
      "Ignoring wrong pointing object 15 0 (offset 0)\n",
      "Ignoring wrong pointing object 17 0 (offset 0)\n",
      "Ignoring wrong pointing object 19 0 (offset 0)\n",
      "Ignoring wrong pointing object 21 0 (offset 0)\n",
      "Ignoring wrong pointing object 30 0 (offset 0)\n",
      "Ignoring wrong pointing object 32 0 (offset 0)\n",
      "Ignoring wrong pointing object 9 0 (offset 0)\n",
      "Ignoring wrong pointing object 11 0 (offset 0)\n",
      "Ignoring wrong pointing object 13 0 (offset 0)\n",
      "Ignoring wrong pointing object 15 0 (offset 0)\n",
      "Ignoring wrong pointing object 17 0 (offset 0)\n",
      "Ignoring wrong pointing object 19 0 (offset 0)\n",
      "Ignoring wrong pointing object 27 0 (offset 0)\n",
      "Ignoring wrong pointing object 9 0 (offset 0)\n",
      "Ignoring wrong pointing object 11 0 (offset 0)\n",
      "Ignoring wrong pointing object 13 0 (offset 0)\n",
      "Ignoring wrong pointing object 15 0 (offset 0)\n",
      "Ignoring wrong pointing object 17 0 (offset 0)\n",
      "Ignoring wrong pointing object 19 0 (offset 0)\n",
      "Ignoring wrong pointing object 28 0 (offset 0)\n",
      "Ignoring wrong pointing object 9 0 (offset 0)\n",
      "Ignoring wrong pointing object 11 0 (offset 0)\n",
      "Ignoring wrong pointing object 13 0 (offset 0)\n",
      "Ignoring wrong pointing object 15 0 (offset 0)\n",
      "Ignoring wrong pointing object 17 0 (offset 0)\n",
      "Ignoring wrong pointing object 19 0 (offset 0)\n",
      "Ignoring wrong pointing object 21 0 (offset 0)\n",
      "Ignoring wrong pointing object 31 0 (offset 0)\n",
      "Ignoring wrong pointing object 9 0 (offset 0)\n",
      "Ignoring wrong pointing object 11 0 (offset 0)\n",
      "Ignoring wrong pointing object 13 0 (offset 0)\n",
      "Ignoring wrong pointing object 15 0 (offset 0)\n",
      "Ignoring wrong pointing object 17 0 (offset 0)\n",
      "Ignoring wrong pointing object 19 0 (offset 0)\n",
      "Ignoring wrong pointing object 28 0 (offset 0)\n",
      "Ignoring wrong pointing object 9 0 (offset 0)\n",
      "Ignoring wrong pointing object 11 0 (offset 0)\n",
      "Ignoring wrong pointing object 13 0 (offset 0)\n",
      "Ignoring wrong pointing object 15 0 (offset 0)\n",
      "Ignoring wrong pointing object 17 0 (offset 0)\n",
      "Ignoring wrong pointing object 19 0 (offset 0)\n",
      "Ignoring wrong pointing object 21 0 (offset 0)\n",
      "Ignoring wrong pointing object 31 0 (offset 0)\n",
      "Ignoring wrong pointing object 33 0 (offset 0)\n",
      "Ignoring wrong pointing object 43 0 (offset 0)\n",
      "Ignoring wrong pointing object 9 0 (offset 0)\n",
      "Ignoring wrong pointing object 11 0 (offset 0)\n",
      "Ignoring wrong pointing object 13 0 (offset 0)\n",
      "Ignoring wrong pointing object 15 0 (offset 0)\n",
      "Ignoring wrong pointing object 17 0 (offset 0)\n",
      "Ignoring wrong pointing object 19 0 (offset 0)\n",
      "Ignoring wrong pointing object 36 0 (offset 0)\n",
      "Ignoring wrong pointing object 9 0 (offset 0)\n",
      "Ignoring wrong pointing object 11 0 (offset 0)\n",
      "Ignoring wrong pointing object 13 0 (offset 0)\n",
      "Ignoring wrong pointing object 15 0 (offset 0)\n",
      "Ignoring wrong pointing object 17 0 (offset 0)\n",
      "Ignoring wrong pointing object 19 0 (offset 0)\n",
      "Ignoring wrong pointing object 27 0 (offset 0)\n",
      "Ignoring wrong pointing object 9 0 (offset 0)\n",
      "Ignoring wrong pointing object 11 0 (offset 0)\n",
      "Ignoring wrong pointing object 13 0 (offset 0)\n",
      "Ignoring wrong pointing object 15 0 (offset 0)\n",
      "Ignoring wrong pointing object 17 0 (offset 0)\n",
      "Ignoring wrong pointing object 19 0 (offset 0)\n",
      "Ignoring wrong pointing object 21 0 (offset 0)\n",
      "Ignoring wrong pointing object 31 0 (offset 0)\n",
      "Ignoring wrong pointing object 33 0 (offset 0)\n",
      "Ignoring wrong pointing object 44 0 (offset 0)\n",
      "Ignoring wrong pointing object 8 0 (offset 0)\n",
      "Ignoring wrong pointing object 10 0 (offset 0)\n",
      "Ignoring wrong pointing object 12 0 (offset 0)\n",
      "Ignoring wrong pointing object 14 0 (offset 0)\n",
      "Ignoring wrong pointing object 23 0 (offset 0)\n",
      "Ignoring wrong pointing object 26 0 (offset 0)\n",
      "Ignoring wrong pointing object 28 0 (offset 0)\n",
      "Ignoring wrong pointing object 38 0 (offset 0)\n",
      "Ignoring wrong pointing object 40 0 (offset 0)\n",
      "Ignoring wrong pointing object 9 0 (offset 0)\n",
      "Ignoring wrong pointing object 11 0 (offset 0)\n",
      "Ignoring wrong pointing object 13 0 (offset 0)\n",
      "Ignoring wrong pointing object 15 0 (offset 0)\n",
      "Ignoring wrong pointing object 17 0 (offset 0)\n",
      "Ignoring wrong pointing object 19 0 (offset 0)\n",
      "Ignoring wrong pointing object 28 0 (offset 0)\n",
      "Ignoring wrong pointing object 30 0 (offset 0)\n",
      "Ignoring wrong pointing object 32 0 (offset 0)\n",
      "Ignoring wrong pointing object 41 0 (offset 0)\n",
      "Ignoring wrong pointing object 9 0 (offset 0)\n",
      "Ignoring wrong pointing object 11 0 (offset 0)\n",
      "Ignoring wrong pointing object 13 0 (offset 0)\n",
      "Ignoring wrong pointing object 15 0 (offset 0)\n",
      "Ignoring wrong pointing object 17 0 (offset 0)\n",
      "Ignoring wrong pointing object 19 0 (offset 0)\n",
      "Ignoring wrong pointing object 21 0 (offset 0)\n",
      "Ignoring wrong pointing object 31 0 (offset 0)\n",
      "Ignoring wrong pointing object 39 0 (offset 0)\n",
      "Ignoring wrong pointing object 44 0 (offset 0)\n",
      "Ignoring wrong pointing object 52 0 (offset 0)\n",
      "Ignoring wrong pointing object 9 0 (offset 0)\n",
      "Ignoring wrong pointing object 11 0 (offset 0)\n",
      "Ignoring wrong pointing object 13 0 (offset 0)\n",
      "Ignoring wrong pointing object 15 0 (offset 0)\n",
      "Ignoring wrong pointing object 17 0 (offset 0)\n",
      "Ignoring wrong pointing object 26 0 (offset 0)\n",
      "Ignoring wrong pointing object 28 0 (offset 0)\n",
      "Ignoring wrong pointing object 30 0 (offset 0)\n",
      "Ignoring wrong pointing object 32 0 (offset 0)\n",
      "Ignoring wrong pointing object 9 0 (offset 0)\n",
      "Ignoring wrong pointing object 11 0 (offset 0)\n",
      "Ignoring wrong pointing object 13 0 (offset 0)\n",
      "Ignoring wrong pointing object 15 0 (offset 0)\n",
      "Ignoring wrong pointing object 17 0 (offset 0)\n",
      "Ignoring wrong pointing object 19 0 (offset 0)\n",
      "Ignoring wrong pointing object 21 0 (offset 0)\n",
      "Ignoring wrong pointing object 31 0 (offset 0)\n",
      "Ignoring wrong pointing object 46 0 (offset 0)\n",
      "Ignoring wrong pointing object 9 0 (offset 0)\n",
      "Ignoring wrong pointing object 11 0 (offset 0)\n",
      "Ignoring wrong pointing object 13 0 (offset 0)\n",
      "Ignoring wrong pointing object 15 0 (offset 0)\n",
      "Ignoring wrong pointing object 17 0 (offset 0)\n",
      "Ignoring wrong pointing object 19 0 (offset 0)\n",
      "Ignoring wrong pointing object 21 0 (offset 0)\n",
      "Ignoring wrong pointing object 29 0 (offset 0)\n",
      "Ignoring wrong pointing object 9 0 (offset 0)\n",
      "Ignoring wrong pointing object 11 0 (offset 0)\n",
      "Ignoring wrong pointing object 13 0 (offset 0)\n",
      "Ignoring wrong pointing object 15 0 (offset 0)\n",
      "Ignoring wrong pointing object 17 0 (offset 0)\n",
      "Ignoring wrong pointing object 29 0 (offset 0)\n",
      "Ignoring wrong pointing object 9 0 (offset 0)\n",
      "Ignoring wrong pointing object 11 0 (offset 0)\n",
      "Ignoring wrong pointing object 13 0 (offset 0)\n",
      "Ignoring wrong pointing object 15 0 (offset 0)\n",
      "Ignoring wrong pointing object 17 0 (offset 0)\n",
      "Ignoring wrong pointing object 19 0 (offset 0)\n",
      "Ignoring wrong pointing object 21 0 (offset 0)\n",
      "Ignoring wrong pointing object 31 0 (offset 0)\n",
      "Ignoring wrong pointing object 39 0 (offset 0)\n",
      "Ignoring wrong pointing object 9 0 (offset 0)\n",
      "Ignoring wrong pointing object 11 0 (offset 0)\n",
      "Ignoring wrong pointing object 13 0 (offset 0)\n",
      "Ignoring wrong pointing object 15 0 (offset 0)\n",
      "Ignoring wrong pointing object 17 0 (offset 0)\n",
      "Ignoring wrong pointing object 26 0 (offset 0)\n",
      "Ignoring wrong pointing object 28 0 (offset 0)\n",
      "Ignoring wrong pointing object 30 0 (offset 0)\n",
      "Ignoring wrong pointing object 39 0 (offset 0)\n",
      "Ignoring wrong pointing object 9 0 (offset 0)\n",
      "Ignoring wrong pointing object 11 0 (offset 0)\n",
      "Ignoring wrong pointing object 13 0 (offset 0)\n",
      "Ignoring wrong pointing object 15 0 (offset 0)\n",
      "Ignoring wrong pointing object 17 0 (offset 0)\n",
      "Ignoring wrong pointing object 19 0 (offset 0)\n",
      "Ignoring wrong pointing object 28 0 (offset 0)\n",
      "Ignoring wrong pointing object 9 0 (offset 0)\n",
      "Ignoring wrong pointing object 11 0 (offset 0)\n",
      "Ignoring wrong pointing object 13 0 (offset 0)\n",
      "Ignoring wrong pointing object 15 0 (offset 0)\n",
      "Ignoring wrong pointing object 17 0 (offset 0)\n",
      "Ignoring wrong pointing object 19 0 (offset 0)\n",
      "Ignoring wrong pointing object 21 0 (offset 0)\n",
      "Ignoring wrong pointing object 31 0 (offset 0)\n",
      "Ignoring wrong pointing object 9 0 (offset 0)\n",
      "Ignoring wrong pointing object 11 0 (offset 0)\n",
      "Ignoring wrong pointing object 13 0 (offset 0)\n",
      "Ignoring wrong pointing object 15 0 (offset 0)\n",
      "Ignoring wrong pointing object 17 0 (offset 0)\n",
      "Ignoring wrong pointing object 19 0 (offset 0)\n",
      "Ignoring wrong pointing object 27 0 (offset 0)\n",
      "Ignoring wrong pointing object 9 0 (offset 0)\n",
      "Ignoring wrong pointing object 11 0 (offset 0)\n",
      "Ignoring wrong pointing object 13 0 (offset 0)\n",
      "Ignoring wrong pointing object 15 0 (offset 0)\n",
      "Ignoring wrong pointing object 17 0 (offset 0)\n",
      "Ignoring wrong pointing object 25 0 (offset 0)\n",
      "Ignoring wrong pointing object 27 0 (offset 0)\n",
      "Ignoring wrong pointing object 29 0 (offset 0)\n",
      "Ignoring wrong pointing object 9 0 (offset 0)\n",
      "Ignoring wrong pointing object 11 0 (offset 0)\n",
      "Ignoring wrong pointing object 13 0 (offset 0)\n",
      "Ignoring wrong pointing object 15 0 (offset 0)\n",
      "Ignoring wrong pointing object 17 0 (offset 0)\n",
      "Ignoring wrong pointing object 19 0 (offset 0)\n",
      "Ignoring wrong pointing object 28 0 (offset 0)\n",
      "Ignoring wrong pointing object 30 0 (offset 0)\n",
      "Ignoring wrong pointing object 32 0 (offset 0)\n",
      "Ignoring wrong pointing object 41 0 (offset 0)\n",
      "Ignoring wrong pointing object 9 0 (offset 0)\n",
      "Ignoring wrong pointing object 11 0 (offset 0)\n",
      "Ignoring wrong pointing object 13 0 (offset 0)\n",
      "Ignoring wrong pointing object 15 0 (offset 0)\n",
      "Ignoring wrong pointing object 17 0 (offset 0)\n",
      "Ignoring wrong pointing object 19 0 (offset 0)\n",
      "Ignoring wrong pointing object 21 0 (offset 0)\n",
      "Ignoring wrong pointing object 31 0 (offset 0)\n",
      "Ignoring wrong pointing object 79 0 (offset 0)\n",
      "Ignoring wrong pointing object 9 0 (offset 0)\n",
      "Ignoring wrong pointing object 11 0 (offset 0)\n",
      "Ignoring wrong pointing object 13 0 (offset 0)\n",
      "Ignoring wrong pointing object 15 0 (offset 0)\n",
      "Ignoring wrong pointing object 17 0 (offset 0)\n",
      "Ignoring wrong pointing object 25 0 (offset 0)\n",
      "Ignoring wrong pointing object 27 0 (offset 0)\n",
      "Ignoring wrong pointing object 29 0 (offset 0)\n",
      "Ignoring wrong pointing object 31 0 (offset 0)\n",
      "Ignoring wrong pointing object 48 0 (offset 0)\n"
     ]
    },
    {
     "data": {
      "text/plain": [
       "{'document': '/Users/benjamin/src/Agentic-rag/data/Cancers de la peau | Santé publique France.pdf',\n",
       " 'page': 0,\n",
       " 'text': 'Cancers de la peau | Santé publique FranceCancers de la peauAccueil Maladies et traumatismesCancersCancers de la peau : les maladiesLes cancers de la peau pourraient constituer le cancer le plus fréquent enFrance. Attribuables dans plus de 85% des cas à une exposition excessiveaux ultraviolets (UV) naturels ou artiAciels, ils peuvent être évités grâce àune exposition raisonnée. Chaque année, entre 141 200 et 243 500 cassont diagnostiqués en France.Mis à jour le 13 juillet 2023Nos missionsSurveiller l’évolution épidémiologique des cancers de la peau (mélanomes cutanéset autres cancers cutanés) Participer à l’expertise sur la surveillance épidémiologique et les politiques deprévention de l’exposition aux UVDécrire et suivre les comportements et les connaissances de la population surl’exposition aux UVInformer sur les dangers d’une exposition excessive aux UV et promouvoir lesprincipaux gestes de prévention'}"
      ]
     },
     "execution_count": 54,
     "metadata": {},
     "output_type": "execute_result"
    }
   ],
   "source": [
    "docs = list(extract_pages(\"/Users/benjamin/src/Agentic-rag/data\"))\n",
    "docs[0]"
   ]
  },
  {
   "cell_type": "markdown",
   "id": "7661c70d",
   "metadata": {},
   "source": [
    "## 3. Indexing (embedding model)"
   ]
  },
  {
   "cell_type": "code",
   "execution_count": 55,
   "id": "2c29cad0",
   "metadata": {},
   "outputs": [],
   "source": [
    "from openai import OpenAI\n",
    "from dotenv import load_dotenv\n",
    "import os\n",
    "\n",
    "load_dotenv()\n",
    "\n",
    "client = OpenAI()"
   ]
  },
  {
   "cell_type": "code",
   "execution_count": 56,
   "id": "2511f6cf",
   "metadata": {},
   "outputs": [],
   "source": [
    "sample = docs[0][\"text\"]"
   ]
  },
  {
   "cell_type": "code",
   "execution_count": 57,
   "id": "7facb414",
   "metadata": {},
   "outputs": [
    {
     "data": {
      "text/plain": [
       "917"
      ]
     },
     "execution_count": 57,
     "metadata": {},
     "output_type": "execute_result"
    }
   ],
   "source": [
    "len(sample)"
   ]
  },
  {
   "cell_type": "code",
   "execution_count": 58,
   "id": "9743673c",
   "metadata": {},
   "outputs": [
    {
     "data": {
      "text/plain": [
       "CreateEmbeddingResponse(data=[Embedding(embedding=[-0.00874314270913601, 0.04785945639014244, 0.021163657307624817, 0.023007705807685852, 0.03655930608510971, -0.013144196942448616, -0.011846930719912052, -0.015202668495476246, 0.0038757154252380133, 0.021999912336468697, -0.0033476960379630327, -0.0914304330945015, 0.027167532593011856, -0.02037028782069683, -0.009048696607351303, 0.04262750968337059, 0.044900406152009964, 0.0020678522996604443, -0.00442785769701004, -0.012533088214695454, 0.0313916876912117, -0.006448804400861263, 0.0012751532485708594, -0.04631560295820236, 0.02079913765192032, -0.046787336468696594, 0.015770891681313515, -0.04014018923044205, 0.0033905808813869953, 0.039389707148075104, 0.017743593081831932, -0.03147745504975319, 0.002219289308413863, 0.009445381350815296, -0.02253597229719162, -0.041898466646671295, 0.012886887416243553, 0.02040245197713375, -0.02071336656808853, 0.02324357070028782, 0.012543809600174427, -0.008850354701280594, 0.00369881559163332, 0.03857489302754402, -0.011117889545857906, -0.016392720863223076, 0.017282580956816673, -0.03992576524615288, 0.011836210265755653, -0.011846930719912052, 0.023179244250059128, 0.022643184289336205, -0.006014595739543438, 0.08332519978284836, -0.03147745504975319, 0.02033812552690506, -0.014484347775578499, 0.009161269292235374, -0.02727474458515644, -0.006036038044840097, 0.06372684240341187, 0.0054946173913776875, 0.012318664230406284, -0.0070331101305782795, -0.04803099483251572, 0.03014802746474743, -0.02568800561130047, -0.012147124856710434, -0.00332357338629663, 0.000860376690980047, -0.00014842167729511857, -1.53698510985123e-05, 0.03375035151839256, 0.001180672668851912, -0.002333202166482806, -0.029633410274982452, 0.013401505537331104, 0.017186090350151062, -0.0016001397743821144, 0.004671765025705099, 0.02504473365843296, 0.007494121789932251, -0.0001841031771618873, 0.04850272834300995, 0.03089851140975952, -0.01618901826441288, 0.008191000670194626, 0.01572800613939762, -0.04974639043211937, 0.003202959895133972, -0.009868868626654148, 0.010404928587377071, -0.04541502147912979, 0.04541502147912979, -0.018837155774235725, -0.007333303801715374, -0.00922559667378664, -0.01733618788421154, 0.061153750866651535, -0.01730402372777462, -0.021560342982411385, 0.04014018923044205, -0.006229019723832607, -0.04093356058001518, 0.012393712066113949, -0.030383894219994545, -0.040569037199020386, 0.01276895496994257, 0.008641290478408337, -0.03913239762187004, 0.053563136607408524, 0.018408307805657387, 0.01628550887107849, 0.04318501055240631, -0.00849655456840992, 0.001639004098251462, -0.0488458089530468, -0.034007661044597626, 0.03872499242424965, -0.033535927534103394, 0.005709041375666857, -0.0027526691555976868, -0.01597459428012371, -0.016306951642036438, 0.027853690087795258, -0.008721699938178062, 0.04277760535478592, -0.016918061301112175, -0.012586694210767746, -0.031992074102163315, 0.009852786548435688, -0.04485752061009407, 0.0035031535662710667, -0.012618857435882092, 0.00037959765177220106, -0.05540718510746956, 0.04820253700017929, -0.031777650117874146, -0.007226091809570789, 0.02448723092675209, 0.026567144319415092, 0.02386540174484253, 0.01492391712963581, 0.051461782306432724, -0.040912117809057236, -0.03284977003931999, -0.00249938084743917, 0.021410245448350906, 0.04142673313617706, 0.0038810761179775, -0.012061354704201221, -0.01900869607925415, 0.021528178825974464, 0.04026884585618973, -0.03831758350133896, -0.0670289695262909, 0.01618901826441288, 0.07976575940847397, -0.005542862694710493, -0.020048651844263077, -0.004851344972848892, 0.020166585221886635, -0.024808866903185844, -0.014355693012475967, 0.008014100603759289, -0.006582819391041994, -0.0004352139076218009, 0.0016403442714363337, 0.00795513391494751, 0.021560342982411385, -0.045800987631082535, -0.047259069979190826, 0.03237803652882576, 0.028132440522313118, -0.032956983894109726, -0.019458986818790436, 0.01984494924545288, 0.04374251514673233, -0.017111042514443398, 0.0007886785897426307, -0.023329341784119606, 0.041212309151887894, 0.04665868356823921, -0.005617910996079445, 0.03593747690320015, -0.013733862899243832, 0.03640921041369438, -0.048802923411130905, -0.0404832698404789, -0.041126541793346405, -0.0009186732349917293, -0.06582819670438766, 0.012543809600174427, 0.009252399206161499, -0.012307942844927311, -0.011568179354071617, 0.00882355123758316, 0.0036854140926152468, -0.05952412635087967, -0.012147124856710434, 0.001144488574936986, -0.039668455719947815, -0.018033066764473915, 0.01866561733186245, 0.021753324195742607, -0.026674356311559677, 0.020670482888817787, 0.03302130848169327, 0.012865445576608181, 0.03709536790847778, 0.004497545305639505, 0.024315692484378815, 0.02020947076380253, 0.014173432253301144, 0.0050041223876178265, -0.013069148175418377, 0.0034629490692168474, -0.050818510353565216, 0.019823506474494934, 0.002209908328950405, -0.0054946173913776875, 0.010560386814177036, 0.04318501055240631, 0.0010339261498302221, -0.03600180521607399, -0.03291409835219383, 0.024615885689854622, -0.0027352473698556423, 0.017668545246124268, -0.014666607603430748, -0.03269967436790466, 0.03848912566900253, -0.015041849575936794, -0.0366450771689415, -0.0366450771689415, -0.0017810601275414228, -0.018987253308296204, 0.08315366506576538, -0.014227038249373436, -0.02184981480240822, 0.0069312588311731815, 0.028282538056373596, -0.03604469075798988, 0.018118835985660553, 0.009048696607351303, -0.02238587476313114, -0.013798190280795097, -0.03334294632077217, -0.011771882884204388, -0.024851752445101738, 0.03398621827363968, 0.04067625105381012, -0.010447814129292965, -0.04515771195292473, 0.00591274444013834, 0.06938763707876205, 0.015813777223229408, -0.010147619992494583, -0.043163567781448364, 0.02068120427429676, 0.001542513258755207, -0.016146134585142136, -0.06608550250530243, -0.07976575940847397, 0.015899546444416046, 0.02173188142478466, -0.036280557513237, -0.018472636118531227, 0.02061687596142292, -0.042327314615249634, 0.03188486397266388, -0.006459525786340237, 0.08598405867815018, 0.025430697947740555, -0.04024740308523178, 0.03598036244511604, -0.006025317125022411, 0.018987253308296204, 0.008014100603759289, -0.021892700344324112, -0.0015090095112100244, 0.010190504603087902, -0.01312275417149067, -0.04940330982208252, -0.002288977149873972, -0.03908951207995415, -0.039582688361406326, 0.013755305670201778, -0.03314996510744095, -0.001862809294834733, 0.015717286616563797, -0.008475111797451973, -0.01217928808182478, -0.0017555971862748265, -0.03887508809566498, 0.04498617351055145, 0.013026263564825058, 0.018279653042554855, -0.04918888583779335, 0.017507726326584816, -0.03055543266236782, 0.025623679161071777, -0.008566242642700672, 0.0024243323132395744, 0.010806974023580551, 0.05493545159697533, 0.011042840778827667, 0.028282538056373596, -0.010731926187872887, 0.013412226922810078, -0.0005317047471180558, -0.011536016128957272, 0.026974551379680634, -0.0366450771689415, 0.02002721093595028, 0.004497545305639505, 0.029569081962108612, 0.0033423355780541897, -0.00037323194555938244, -0.014677328988909721, 0.014269922859966755, -0.022214336320757866, -0.02811099775135517, 0.024401461705565453, -0.02929033152759075, -0.033042751252651215, 0.03426497057080269, 0.02079913765192032, -0.013926845043897629, -0.05785162001848221, 0.014537953771650791, -0.0006258503417484462, 0.02182837203145027, -0.02804667130112648, -0.003591603599488735, -0.05768008157610893, 0.043506648391485214, -0.0065345740877091885, -0.042027123272418976, -0.019984325394034386, 0.006357674486935139, -0.002436393639072776, 0.007338664494454861, -0.005950268357992172, 0.0169073399156332, -0.020756252110004425, -0.000124717756989412, 0.016692915931344032, 0.038124602288007736, 0.02073480933904648, 0.07903672009706497, 0.013069148175418377, -0.0015920988516882062, -0.004162507597357035, -0.043506648391485214, -0.04627271741628647, 0.02154962159693241, 0.014269922859966755, 0.016885897144675255, 0.006845489144325256, -0.0057733687572181225, -0.05463525652885437, 0.024401461705565453, -0.014087663032114506, 0.027124647051095963, 0.04007586091756821, -0.04142673313617706, 0.01380891166627407, -0.00124432984739542, -0.027081763371825218, -0.01579233445227146, -0.013905402272939682, 0.0013649433385580778, -0.005666156765073538, -0.05523564666509628, -0.01965196803212166, -0.013948286883533001, -0.012458039447665215, 0.02847551926970482, -0.0021455809473991394, -0.005352561362087727, 0.02238587476313114, -0.005843056365847588, -0.005256070755422115, 0.003251205198466778, 0.02324357070028782, -0.046787336468696594, 0.0029992570634931326, -0.05137601122260094, -0.023007705807685852, -0.03409343212842941, -0.005207824986428022, -0.010431732051074505, -0.019448265433311462, 0.027188975363969803, 0.04738772287964821, 0.009675887413322926, 0.04760214686393738, 0.01016906276345253, -0.033385831862688065, 0.0013347899075597525, -0.028303980827331543, 0.014870311133563519, 0.0060950047336518764, -0.015888825058937073, 0.01385179627686739, -0.025730891153216362, 0.019298167899250984, 0.006657868158072233, -0.02371530421078205, -0.020809857174754143, -0.0009917113929986954, -0.00919343251734972, 0.020852742716670036, -0.057808734476566315, 0.0030823464039713144, 0.03621622920036316, 0.014859589748084545, -0.005151538643985987, -0.010351322591304779, 0.006116447038948536, -0.016231903806328773, 0.017915133386850357, -0.003886436577886343, -0.02609541267156601, 0.004746813327074051, -0.0028920448385179043, -0.06539934873580933, 0.02324357070028782, -0.007660300470888615, -0.0341791994869709, 0.0705026388168335, 0.01640344224870205, 0.023758189752697945, 0.01591026782989502, -0.0017649782821536064, 0.03613045811653137, -0.0018252850277349353, -0.05279121175408363, 0.045029059052467346, -0.00718856742605567, -0.034007661044597626, -0.05635065212845802, -0.025280600413680077, 0.027660707011818886, -0.055364299565553665, 0.032828327268362045, 0.013540881685912609, -0.003543358063325286, -0.008351818658411503, 0.03999009355902672, -0.010126178152859211, -0.0523194782435894, -0.03649498149752617, -0.02352232299745083, -0.006834767758846283, -0.0028625617269426584, -0.05707969143986702, 0.002884004032239318, 0.023629534989595413, 0.04312068596482277, 0.07916537672281265, 0.01702527329325676, 0.011160774156451225, -0.016264067962765694, 0.03368602320551872, -0.01591026782989502, -0.008587684482336044, -0.008212442509829998, 0.011471688747406006, 0.034071989357471466, 0.03098428063094616, -0.02761782333254814, -0.017743593081831932, 0.004502905998378992, -0.03278544172644615, -0.048802923411130905, -0.01984494924545288, -0.030019372701644897, 0.058923739939928055, -0.07028821855783463, -0.030169470235705376, -0.03439362347126007, -0.03218505531549454, 0.03274255990982056, 0.0014446823624894023, 0.05227659270167351, 0.0677151307463646, 0.0057144020684063435, 0.025216273963451385, -0.017915133386850357, -0.030877068638801575, -0.011150052770972252, -0.006893734447658062, 0.012222173623740673, 0.0011987646576017141, -0.03992576524615288, -0.004200031980872154, 0.010217308066785336, 0.006030677352100611, -7.751933299005032e-05, -0.028711386024951935, 0.007563809864223003, 0.023114917799830437, 0.0983777716755867, 0.035337090492248535, 0.048674266785383224, 0.04089067503809929, -0.0317562073469162, 0.03027668222784996, 0.013980451039969921, -0.032956983894109726, -0.0035487187560647726, -0.003972206264734268, -0.017968738451600075, -0.012790396809577942, -0.019212398678064346, 0.014602280221879482, 0.03814604505896568, 0.01368025690317154, -0.02727474458515644, 0.017882969230413437, 0.007429794874042273, -0.01771143078804016, -0.004717329982668161, -0.03613045811653137, -0.03902518376708031, -0.03600180521607399, 0.014462905004620552, -0.0585806630551815, 0.010313798673450947, -0.004015090875327587, 0.017840083688497543, -0.005449052434414625, -0.020263075828552246, 0.02483030967414379, -0.029183119535446167, -0.02553790993988514, -0.015213388949632645, 0.051247358322143555, -0.016885897144675255, -0.00441981665790081, -0.0010774810798466206, -0.007445876486599445, -0.01755061186850071, -0.025838103145360947, 0.01179332472383976, -0.029333215206861496, 0.014741656370460987, -0.049360424280166626, 0.009557954035699368, -0.029461869969964027, -0.05227659270167351, -0.011686112731695175, -0.02826109528541565, 0.03141313046216965, 0.02566656284034252, -0.00202362728305161, 0.01789369061589241, -0.009890311397612095, 0.0049451556988060474, 0.028904367238283157, 0.052919864654541016, 0.03432929515838623, 0.022021353244781494, 0.004261679016053677, -5.4527376050828025e-05, -0.017228975892066956, 0.008132033981382847, 0.022643184289336205, -0.004556511994451284, -0.017411235719919205, -0.005848417058587074, -0.03160611167550087, 0.02594531513750553, -0.00012019475252600387, 0.0037041762843728065, -0.000947486434597522, 0.00019599702500272542, 0.004591356031596661, 0.00048044396680779755, 0.025838103145360947, 0.0015438534319400787, 0.030105141922831535, -0.037073925137519836, 0.019480427727103233, -0.01978062279522419, -0.0691303238272667, -0.02770359255373478, -0.050818510353565216, 0.04717329889535904, 0.02132447622716427, 0.018000902608036995, -0.017293302342295647, 0.04760214686393738, 0.027939459308981895, -0.006556016393005848, -0.023672420531511307, -0.002278255997225642, -0.010978513397276402, 0.017250418663024902, 0.023350782692432404, -0.02260029874742031, -0.03928249329328537, 0.022085681557655334, 0.013905402272939682, 0.00552678108215332, -0.04554367810487747, -0.03745988756418228, 0.02086346410214901, -0.018086671829223633, 0.009461463429033756, 0.0049049509689211845, 0.029354657977819443, 0.062483180314302444, 0.020788416266441345, -0.015020407736301422, -0.012082797475159168, 0.01715392805635929, -0.0017448760336264968, -0.0030180190224200487, 0.025923872366547585, -0.009327447973191738, -0.019823506474494934, -0.010571107268333435, 0.01649993471801281, 0.058366239070892334, -0.012886887416243553, 0.04760214686393738, -0.024658771231770515, -0.017722150310873985, -0.008710978552699089, 0.015610073693096638, 0.010485338047146797, -0.015288437716662884, 0.011536016128957272, 0.0012001048307865858, -0.005902023054659367, -0.009295284748077393, -0.04494328796863556, 0.006722195073962212, 0.025430697947740555, 0.013497996143996716, -0.0328068844974041, -0.006614983081817627, -0.012147124856710434, 0.0038462320808321238, -0.025087619200348854, 0.028454076498746872, 0.013112032786011696, -0.03216361254453659, 0.025709448382258415, -0.02671724185347557, 0.016757242381572723, -0.006518492475152016, 0.022728953510522842, 0.05943835899233818, 0.009745574556291103, 0.0010412969859316945, 0.07530573755502701, -0.03730979189276695, 0.0023720664903521538, 0.03297842666506767, -0.06617127358913422, -0.020606154575943947, -0.010313798673450947, -0.016735799610614777, -0.011557458899915218, 0.024508673697710037, 0.03323573246598244, 0.04243452847003937, 0.01625334657728672, 0.01569584384560585, 0.032142169773578644, 0.004023131914436817, -0.00313059170730412, 0.025237714871764183, 0.007558449171483517, -0.012329385615885258, 0.009375693276524544, -0.012329385615885258, -0.020949233323335648, -0.0481596514582634, 0.01105356216430664, -0.028925810009241104, 0.02706032060086727, 0.0009012512746267021, 0.01727186143398285, 0.004508266691118479, -0.017979459837079048, 0.02079913765192032, 0.006202216725796461, -0.013401505537331104, -0.014227038249373436, -0.009927835315465927, 0.0021911461371928453, -0.018258212134242058, -0.009895672090351582, -0.0338575653731823, -0.03636632487177849, 0.04507194459438324, -0.002045069821178913, 0.0037095367442816496, 0.003194918856024742, 0.016703637316823006, -0.00843758787959814, -0.0359160341322422, -0.005336479749530554, -0.0425846241414547, 0.005382044706493616, 0.0013361300807446241, 0.03679517284035683, -0.07719267159700394, -0.0005658785812556744, -0.014012614265084267, -0.010474616661667824, -0.017261140048503876, 0.04108365625143051, 0.02624550834298134, -0.01740051433444023, 0.0034388264175504446, 0.026888780295848846, -0.04918888583779335, -0.0003414033562876284, 0.04996081441640854, 0.02761782333254814, -0.025559350848197937, 0.028089554980397224, -0.007601334247738123, -0.021688995882868767, -0.0892861932516098, -0.0606820173561573, 0.04333510994911194, -0.022278662770986557, -0.008024821989238262, 0.02693166583776474, 0.0177972000092268, -0.0046771252527832985, 0.002045069821178913, -0.006341592408716679, -0.000727701757568866, 0.003886436577886343, 0.00249938084743917, 0.013347899541258812, 0.0005343850352801383, 0.026202624663710594, -0.023951170966029167, 0.039582688361406326, -0.033728908747434616, 0.013262130320072174, 0.036602191627025604, 0.004808460362255573, 0.001845387276262045, -0.06874436140060425, 0.006968782749027014, -0.023350782692432404, -0.015738727524876595, 0.013562323525547981, -0.02847551926970482, 0.005239988677203655, 0.03383612260222435, 0.00999752338975668, -0.01810811460018158, 0.00033151975367218256, 0.02888292446732521, 0.01996288262307644, -0.002921528182923794, 0.03355737030506134, -0.04511483013629913, 0.021806929260492325, -0.03426497057080269, -0.010662238113582134, -0.0059341867454349995, -0.004285801667720079, -0.0012778335949406028, -0.008121312595903873, -0.03902518376708031, -0.031241590157151222, -0.00443321792408824, -0.051804859191179276, 0.03831758350133896, 0.012265058234333992, 0.036173343658447266, 0.021506736055016518, -0.04200568050146103, -0.002420312026515603, 0.04833118990063667, -0.027296187356114388, 0.001762298052199185, -0.020906349644064903, 0.01363737229257822, -0.01999504677951336, -0.01751844771206379, 0.01845119334757328, 0.012318664230406284, -0.013004820793867111, 0.05099004879593849, 0.02018802799284458, 0.03334294632077217, -0.021431688219308853, 0.02742484211921692, -0.00786400306969881, -0.02742484211921692, -0.02380107343196869, 0.01092490740120411, 0.019083743914961815, -0.0004861396155320108, 0.0014621042646467686, -0.015577910467982292, -0.004513626918196678, -0.01829037442803383, -0.02817532606422901, -0.010265553370118141, 0.010447814129292965, -0.0261597391217947, -0.018654895946383476, -0.03027668222784996, 0.005923465359956026, 0.056693729013204575, 0.02048822119832039, 0.0488458089530468, 0.024294249713420868, -0.010319159366190434, -0.018772829324007034, -0.027103204280138016, 0.03898229822516441, -0.020809857174754143, -0.013015542179346085, 0.028218209743499756, 0.0012919051805511117, 0.006984864827245474, 0.015266994945704937, -0.009815262630581856, 0.0050550480373203754, -0.016103249043226242, -0.014956080354750156, -0.010603271424770355, 0.0184833575040102, 0.004695887677371502, 0.003202959895133972, 0.026910223066806793, -0.004258998669683933, 0.013551602140069008, -0.005135457031428814, 0.053477369248867035, -0.0009501667809672654, -0.03456516191363335, 0.005432970356196165, -0.017979459837079048, 0.001990123651921749, -0.019169513136148453, -0.028218209743499756, -0.02860417403280735, -0.02435857616364956, 0.005805532447993755, 0.029075907543301582, -0.03134880214929581, 0.003358417423442006, 0.0035085142590105534, -0.00720464950427413, -0.0008081108098849654, -0.010265553370118141, 0.029268888756632805, -0.032335154712200165, 0.031713321805000305, -0.022793279960751534, -0.019030138850212097, 4.962745151715353e-05, -0.011364476755261421, -0.001894972869195044, 0.026116853579878807, -0.035337090492248535, 0.0023466036655008793, 0.0006921877502463758, -0.01910518668591976, -0.02978350594639778, 0.01566367968916893, -0.03222794085741043, -0.04687310755252838, -0.008078427985310555, 0.05064697191119194, -0.03934682160615921, -0.00866809394210577, -0.013358620926737785, -0.009820623323321342, 0.01909446530044079, -0.013959008269011974, 0.005585747770965099, 0.001460764091461897, 0.023050589486956596, 0.027682149782776833, -0.028303980827331543, -0.03720257803797722, -0.04417136311531067, -0.015888825058937073, -0.012972657568752766, 0.009638362564146519, 0.004923713393509388, -0.001300616073422134, -0.0011820128420367837, -0.0033155325800180435, 0.005465134046971798, -0.004039213992655277, 0.025988200679421425, -0.010303077287971973, -0.021903421729803085, -0.028239652514457703, 0.04007586091756821, -0.02798234298825264, 0.0013207184383645654, -0.0030421416740864515, -0.0006881672888994217, -0.011321592144668102, -0.01217928808182478, 0.04052615165710449, -0.01563151553273201, 0.0015090095112100244, 0.05523564666509628, 0.0018507479690015316, -0.03299986943602562, -0.026974551379680634, 0.025516467168927193, 0.001693950267508626, -0.006775801070034504, -0.012436597608029842, 0.01102139800786972, -0.01513834111392498, 0.016339115798473358, 0.01746484264731407, 0.028518404811620712, -0.009574036113917828, 0.02671724185347557, -0.020884906873106956, -0.035765938460826874, 0.016199739649891853, 0.022643184289336205, -0.018033066764473915, 0.006513131782412529, -0.008566242642700672, -0.002146921120584011, -0.009654444642364979, 0.035894591361284256, 0.027017435058951378, -0.0387035496532917, 0.012726069428026676, 0.014570116996765137, 0.011600343510508537, -0.03274255990982056, 0.004859386011958122, 0.004157146904617548, 0.028582731261849403, -0.008705617859959602, -0.018708501011133194, -0.011310870759189129, -0.0035728414077311754, -0.015395649708807468, -0.0068722921423614025, 0.023136358708143234, -0.0031573947053402662, -0.009745574556291103, 0.009247038513422012, 0.052019283175468445, 0.01807595044374466, 0.02287905104458332, 0.012758233584463596, 0.0328068844974041, -0.00718320719897747, 0.011932700872421265, -0.02630983665585518, 0.05008946731686592, -0.006845489144325256, -0.02343655377626419, 0.025280600413680077, 0.011182215996086597, -0.014055498875677586, -0.0005246689543128014, -0.010951710864901543, -0.017625659704208374, -0.016135413199663162, 0.004749493673443794, 0.008432227186858654, 0.0008838293142616749, -0.01804378814995289, -0.012683184817433357, -0.015749448910355568, -0.010431732051074505, -0.02847551926970482, 0.020595433190464973, -0.02266462706029415, 0.009633001871407032, 0.043077800422906876, 0.0028947251848876476, -0.013101312331855297, -0.03546574339270592, 0.009509708732366562, 0.005151538643985987, -0.005778729449957609, 0.044257134199142456, 0.043377991765737534, 0.01419487502425909, -0.0359160341322422, -0.03083418495953083, 0.013026263564825058, -0.0009032614761963487, -0.0018386865267530084, -0.017164647579193115, 0.03525131940841675, -0.058151815086603165, -0.009793820790946484, -0.03677373006939888, -0.009498987346887589, 0.007998018525540829, -0.04033317044377327, 0.023908285424113274, 0.017421957105398178, -0.0599958598613739, -0.035122666507959366, 0.004502905998378992, -0.008464391343295574, 0.019201677292585373, 0.02873282879590988, -0.02817532606422901, -0.02866850048303604, 0.015459977090358734, 0.02129231207072735, 0.003958804998546839, 0.017754314467310905, 0.010174423456192017, -0.0008107910980470479, 0.0006529883830808103, 0.008121312595903873, -0.0031064690556377172, 0.009718772023916245, 0.05364890769124031, -0.0338575653731823, 0.0014259201707318425, 0.004607437644153833, -0.014216316863894463, 0.009633001871407032, -0.016553539782762527, -0.006727555766701698, 0.01935177482664585, -0.009391775354743004, 0.027253301814198494, -0.014838146977126598, -0.022921934723854065, -0.0005849756998941302, -0.0018025025492534041, -0.010560386814177036, 0.034500837326049805, 0.009188072755932808, 0.03529420495033264, -0.02568800561130047, 0.029826391488313675, 0.008973647840321064, 0.013380063697695732, 0.0032833688892424107, 0.009745574556291103, 0.020788416266441345, -0.012554530054330826, -0.023672420531511307, 0.03405054658651352, -0.002825037343427539, -0.013787468895316124, -0.02138880267739296, 0.008973647840321064, -0.00990639254450798, -0.027381956577301025, 0.004628879949450493, -0.054034870117902756, -0.03514410927891731, -0.018676338717341423, 0.008040903136134148, -0.025795217603445053, 0.008319654501974583, -0.0002271555276820436, 0.013594487681984901, 0.03996865078806877, 0.01838686503469944, -0.012114960700273514, -0.015599352307617664, 0.004585995338857174, 0.027103204280138016, -0.002376087009906769, -0.03760998696088791, 0.03154178336262703, -0.011343033984303474, -0.03152034059166908, 0.011943422257900238, 0.017507726326584816, 0.00444125896319747, 0.0158781036734581, -0.036730848252773285, 0.024787424132227898, 0.013283572159707546, 0.021013561636209488, -0.012608136981725693, 0.01162178535014391, 0.014645165763795376, -0.018622731789946556, 0.060467593371868134, 0.013272850774228573, -0.0023037188220769167, -0.04640137404203415, -0.0031332720536738634, 0.02693166583776474, -0.001976722152903676, 0.015202668495476246, -0.013551602140069008, -0.024380018934607506, 0.01692878268659115, 0.00953651126474142, -0.03675229102373123, 0.004366210661828518, -0.0037363397423177958, -0.0023988694883883, 0.01894436776638031, 0.01681084930896759, -0.00229835812933743, 0.022235779091715813, 0.016424885019659996, -0.008073067292571068, 0.00589666236191988, 0.047259069979190826, -0.0004683826118707657, -0.012972657568752766, -0.033257175236940384, 0.012232894077897072, -0.026417048647999763, -0.008619848638772964, 0.04541502147912979, 0.016017479822039604, 0.008062345907092094, -0.00023921688261907548, -0.02455155923962593, 0.0073708281852304935, -0.044342901557683945, -0.012404433451592922, -0.007435155566781759, 0.01039956882596016, 0.0031145098619163036, 0.007762152235955, -0.008737782016396523, 0.0014071580953896046, -0.02909734845161438, -0.04820253700017929, 0.0067543587647378445, 0.05296275019645691, 0.01928744651377201, -0.008952206000685692, -0.014420020394027233, 0.0578945055603981, 0.0011846930719912052, 0.011814767494797707, 0.0031573947053402662, 0.025795217603445053, 0.014119826257228851, -0.012468760833144188, 0.0184833575040102, 0.013036984950304031, -0.02114221453666687, 0.018804993480443954, 0.012254336848855019, 0.011032119393348694, -0.012919051572680473, -0.026138296350836754, -0.015127619728446007, -0.04020451754331589, -0.03117726370692253, 0.012490203604102135, -0.008737782016396523, 0.0022728953044861555, 0.004460020922124386, 0.04940330982208252, 0.005516059696674347, 0.00552678108215332, -0.03006225824356079, -0.010855219326913357, 0.016264067962765694, -0.004910311661660671, -0.02686733938753605, 0.0001305809273617342, -0.009139826521277428, 0.012758233584463596, -0.015266994945704937, 0.003371818922460079, 0.04494328796863556, 0.0008335736347362399, 0.0008737781899981201, 0.03902518376708031, -0.007858643308281898, -0.03089851140975952, 0.03679517284035683, -0.03182053565979004, 0.007236813195049763, -0.01235082745552063, 0.0026856616605073214, 0.019973604008555412, 0.0025878306478261948, -0.03996865078806877, -0.01746484264731407, -0.03119870461523533, 0.03426497057080269, 0.003653250401839614, 0.00571976276114583, 0.0019847629591822624, 0.018837155774235725, -0.027574937790632248, -0.021753324195742607, 0.03542286157608032, -0.005923465359956026, -0.019523313269019127, 0.023822516202926636, -0.008673454634845257, -0.03314996510744095, -0.02658858709037304, -0.027746478095650673, 0.025237714871764183, 0.0018641494680196047, -0.023200687021017075, 0.00952042918652296, 0.007998018525540829, 0.024787424132227898, -0.0023466036655008793, 0.010029686614871025, -0.0036827337462455034, 0.014291365630924702, -0.013058426789939404, 0.011064283549785614, 0.028904367238283157, 0.010260192677378654, 0.025216273963451385, -0.04695887491106987, -0.015513583086431026, 0.002027647802606225, -0.015996037051081657, 0.006041398737579584, -0.017657823860645294, 0.043785400688648224, 0.004191990941762924, -0.03881075978279114, -0.007231452502310276, -0.007199288811534643, 0.005880580749362707, -0.02798234298825264, 0.008469752036035061, 0.0106354346498847, 0.012340106070041656, 0.002004865324124694, -0.008249967359006405, 0.03726690635085106, -0.020295239984989166, 0.016135413199663162, -0.006438083481043577, -0.02392972819507122, -0.01928744651377201, -0.017625659704208374, 0.017936574295163155, -0.004374251235276461, 0.03420064225792885, -0.047001760452985764, -0.032956983894109726, 0.02761782333254814, -0.011225101538002491, -0.016146134585142136, -0.03145601227879524, -0.022364431992173195, -0.027682149782776833, 0.007236813195049763, -0.0017328147077932954, 0.027853690087795258, 0.011246543377637863, -0.012972657568752766, 0.017722150310873985, 0.00129994610324502, -0.0046261996030807495, 0.04588675498962402, -0.01984494924545288, 0.0132514089345932, 0.016725078225135803, -0.013551602140069008, -0.028368307277560234, 0.02377963252365589, -0.009091581217944622, 0.01789369061589241, 0.039882879704236984, 0.0046744453720748425, -0.025859545916318893, -0.031027166172862053, -0.024958964437246323, 0.0032297628931701183, -0.017872247844934464, 0.002059811493381858, 0.017657823860645294, -0.023286456242203712, -0.02630983665585518, -0.02210712432861328, 0.023843958973884583, 0.025645121932029724, 0.002980494871735573, 0.027639266103506088, -0.003835510928183794, -0.014248481020331383, -0.01552430447191, -0.026481375098228455, 0.002223309827968478, -0.016639309003949165, 0.006899095140397549, 0.0184833575040102, 0.027682149782776833, 0.026181181892752647, -0.007992657832801342, 0.0031252310145646334, -0.004039213992655277, 0.01053894404321909, 0.001675188192166388, -0.006352313794195652, -0.011525294743478298, -0.034071989357471466, -0.0009186732349917293, -0.009858147241175175, -0.0032163613941520452, 0.005189063027501106, 0.012468760833144188, 0.02377963252365589, 0.0023184604942798615, 0.02302914671599865, 0.037652868777513504, 0.041812699288129807, 0.016446327790617943, 0.001295255497097969, -0.044685982167720795, 0.07620631903409958, 0.0016162216197699308, -0.0003953444247599691, -0.0027298866771161556, -0.030040815472602844, -0.021721160039305687, 0.004122303333133459, 0.017443399876356125, -0.022578855976462364, 0.0047977389767766, -0.010689040645956993, 0.024444347247481346, -0.032142169773578644, 0.018065229058265686, -0.020477499812841415, 0.006427362095564604, 0.018268931657075882, 0.015620795078575611, 0.003942722920328379, 0.006861570756882429, -0.03503689542412758, 0.04191990941762924, -0.013573044911026955, -0.009005811996757984, 0.04554367810487747, 0.05167620629072189, 0.005617910996079445, 0.005853777751326561, 0.008491193875670433, 0.03786729276180267, 0.032485250383615494, 0.021924862638115883, 0.0031091494020074606, -0.028239652514457703, 0.00444125896319747, 0.019341053441166878, 0.010613992810249329, -0.03510122373700142, -0.025816660374403, 0.013615929521620274, 0.0011009336449205875, 0.004470742307603359, -0.002114757662639022, 0.00028712727362290025, -0.03782441094517708, 0.03932537883520126, -0.007226091809570789, -0.0212708692997694, 0.015481418929994106, 0.03158466890454292, -0.014109104871749878, -0.02012370154261589, -0.021924862638115883, 0.0047360919415950775, 0.022557415068149567, 0.0010265553137287498, 0.0015867382753640413, -0.058709315955638885, -0.003972206264734268, -0.0321207270026207, -0.03821037337183952, -0.03269967436790466, 0.010860580019652843, -0.035615842789411545, -0.02225722000002861, -0.008362539112567902, 0.027317628264427185, 0.007783594541251659, 0.003387900535017252, 0.015170504339039326, 0.01472021359950304, -0.005253390409052372, -0.013916123658418655, -0.013744584284722805, 0.027188975363969803, 0.023886844515800476, 0.02798234298825264, 0.02018802799284458, 0.025173388421535492, -0.004122303333133459, -0.04781657084822655, 0.015256274491548538, -0.005360602401196957, 0.017475564032793045, -0.006014595739543438, -0.004647642374038696, 0.014087663032114506, 0.02012370154261589, -0.00496123731136322, -0.007890806533396244, 0.017014551907777786, 0.014462905004620552, -0.03602324798703194, 0.005052367690950632, 0.018955089151859283, -0.03679517284035683, 0.02083129994571209, 0.009498987346887589, 0.002614633645862341, -0.02343655377626419, 0.012929772958159447, 0.005692959763109684, 0.021313754841685295, -0.003999009262770414, 0.023050589486956596, 0.019823506474494934, -0.012114960700273514, 0.0198771134018898, -0.009322087280452251, -0.00920951459556818, 0.0015773571794852614, 0.005966350436210632, 0.02658858709037304, -0.010485338047146797, -0.0174541212618351, -0.014484347775578499, -0.018215326592326164, -0.004111581947654486, 0.03780296817421913, 0.023500880226492882, 0.035487186163663864, -0.001272473018616438, -0.027510611340403557, -0.010989234782755375, -0.021399524062871933, 0.01736835204064846, -0.021646112203598022, 0.005987792741507292, 0.011460967361927032, 0.02160322666168213, -0.01720753312110901, 0.005891301669180393, -0.018772829324007034, -0.010817695409059525, 0.01910518668591976, -0.0020758933387696743, -0.0352298766374588, 0.009289924055337906, -0.020080816000699997, 0.04631560295820236, -0.013380063697695732, -0.03537997603416443, 0.010072571225464344, 0.013648093678057194, -0.036237671971321106, -0.0031332720536738634, -0.02086346410214901, 0.01252236682921648, 0.02296482026576996, -0.014913195744156837, -0.021581783890724182, 0.022643184289336205, 0.03034100867807865, 0.01684301160275936, -0.017700709402561188, 0.0002576439583208412, 0.018654895946383476, 0.005650074686855078, -0.03848912566900253, 0.0025315445382148027, 0.011514573357999325, 0.01572800613939762, 0.00868417602032423, 0.00829821266233921, 0.020145142450928688, -0.021281590685248375, 0.01755061186850071, -0.009450742043554783, 0.05064697191119194, 0.018504798412322998, -0.0313916876912117, -0.002660198835656047, -0.007638858165591955, 0.026953108608722687, 0.039582688361406326, -0.03960413113236427, -0.031027166172862053, -0.03117726370692253, 0.007333303801715374, 0.014141269028186798, -0.026845896616578102, -0.015417092479765415, 0.010362043976783752, -0.009649083949625492, 0.001249690423719585, 0.0006737607182003558, -0.0013709740014746785, 0.018858598545193672, -0.013723141513764858, 0.03272111713886261, 0.021163657307624817, -0.006395198404788971, -0.005692959763109684, -0.015363486483693123, -0.0383819118142128, -0.03291409835219383, -0.016885897144675255, 0.038403354585170746, -0.033664580434560776, -0.003152034245431423, 0.02018802799284458, -0.00872706063091755, -0.021496014669537544, 0.022171450778841972], index=0, object='embedding')], model='text-embedding-3-small', object='list', usage=Usage(prompt_tokens=250, total_tokens=250))"
      ]
     },
     "execution_count": 58,
     "metadata": {},
     "output_type": "execute_result"
    }
   ],
   "source": [
    "response = client.embeddings.create(\n",
    "    input=sample,\n",
    "    model=\"text-embedding-3-small\"\n",
    ")\n",
    "\n",
    "response"
   ]
  },
  {
   "cell_type": "code",
   "execution_count": 60,
   "id": "413bb075",
   "metadata": {},
   "outputs": [
    {
     "data": {
      "text/plain": [
       "1536"
      ]
     },
     "execution_count": 60,
     "metadata": {},
     "output_type": "execute_result"
    }
   ],
   "source": [
    "embeddings = [item.embedding for item in response.data]\n",
    "len(embeddings[0]) # 1536 dimensions for text-embedding-3-small"
   ]
  },
  {
   "cell_type": "code",
   "execution_count": 67,
   "id": "d1a272f9",
   "metadata": {},
   "outputs": [],
   "source": [
    "def encode_documents(docs):\n",
    "    for doc in docs:\n",
    "        response = client.embeddings.create(\n",
    "            input=doc[\"text\"],\n",
    "            model=\"text-embedding-3-small\"\n",
    "        )\n",
    "        yield {\n",
    "            \"document\": doc[\"document\"],\n",
    "            \"page\": doc[\"page\"],\n",
    "            \"embedding\": response.data[0].embedding\n",
    "        }"
   ]
  },
  {
   "cell_type": "code",
   "execution_count": null,
   "id": "67ee5d95",
   "metadata": {},
   "outputs": [],
   "source": [
    "# Not working on Macos intell core\n",
    "\n",
    "# from sentence_transformers import SentenceTransformer\n",
    "# model = SentenceTransformer(\"BAAI/bge-m3\")"
   ]
  },
  {
   "cell_type": "code",
   "execution_count": 69,
   "id": "52f52c28",
   "metadata": {},
   "outputs": [],
   "source": [
    "import h5py\n",
    "import numpy as np\n",
    "\n",
    "embeddings = []\n",
    "documents = []\n",
    "pages = []\n",
    "\n",
    "def write_embeddings_and_metadata(embeddings, documents, pages, filename = 'embeddings.hdf5') :\n",
    "    utf8_type = h5py.string_dtype(encoding='utf-8')\n",
    "    with h5py.File(filename,'w') as f : \n",
    "        f.create_dataset('embeddings', data=embeddings)\n",
    "        f.create_dataset('documents', data = np.array(documents, dtype=utf8_type))\n",
    "        f.create_dataset('pages', data = np.array(pages, dtype='i'))\n",
    "\n",
    "\n",
    "def normalize(embedding) :\n",
    "    norm = np.linalg.norm(embedding)\n",
    "    return embedding / norm\n",
    "\n",
    "for doc in encode_documents(docs):\n",
    "    embedding = normalize(doc[\"embedding\"])\n",
    "    embeddings.append(embedding)\n",
    "    documents.append(doc[\"document\"])\n",
    "    pages.append(doc[\"page\"])\n",
    "    \n",
    "stacked_embeddings = np.stack(embeddings)\n",
    "write_embeddings_and_metadata(stacked_embeddings, documents, pages)\n"
   ]
  },
  {
   "cell_type": "code",
   "execution_count": 70,
   "id": "593fc0be",
   "metadata": {},
   "outputs": [],
   "source": [
    "def load_index(filename='embeddings.hdf5'):\n",
    "    with h5py.File(filename, 'r') as f:\n",
    "        embeddings = f['embeddings'][:]\n",
    "        documents = f['documents'][:]\n",
    "        pages = f['pages'][:]\n",
    "    return embeddings, documents, pages\n",
    "\n",
    "\n",
    "embeddings, documents, pages = load_index()"
   ]
  },
  {
   "cell_type": "markdown",
   "id": "c45e8902",
   "metadata": {},
   "source": [
    "## 4. Calculate cosine similarity "
   ]
  },
  {
   "cell_type": "markdown",
   "id": "55af22df",
   "metadata": {},
   "source": []
  },
  {
   "cell_type": "code",
   "execution_count": 77,
   "id": "17b22a0d",
   "metadata": {},
   "outputs": [
    {
     "data": {
      "text/plain": [
       "(175, 1536)"
      ]
     },
     "execution_count": 77,
     "metadata": {},
     "output_type": "execute_result"
    }
   ],
   "source": [
    "stacked_embeddings.shape"
   ]
  },
  {
   "cell_type": "code",
   "execution_count": 84,
   "id": "130192f4",
   "metadata": {},
   "outputs": [
    {
     "data": {
      "text/plain": [
       "1536"
      ]
     },
     "execution_count": 84,
     "metadata": {},
     "output_type": "execute_result"
    }
   ],
   "source": [
    "query = \"Quelles sont les principales causes d'AVC ?\"\n",
    "\n",
    "query_response = client.embeddings.create(\n",
    "            input=query,\n",
    "            model=\"text-embedding-3-small\"\n",
    "        )\n",
    "\n",
    "query_embedding = query_response.data[0].embedding\n",
    " \n",
    "len(query_embedding)"
   ]
  },
  {
   "cell_type": "code",
   "execution_count": 85,
   "id": "c4df545d",
   "metadata": {},
   "outputs": [],
   "source": [
    "def calculate_cosine_similarity(embeddings, query) : \n",
    "    query = normalize(query)\n",
    "    return embeddings @ query.T\n",
    "   "
   ]
  },
  {
   "cell_type": "code",
   "execution_count": null,
   "id": "dfa87157",
   "metadata": {},
   "outputs": [
    {
     "data": {
      "text/plain": [
       "array([0.28211596, 0.26711238, 0.28245964, 0.33482823, 0.28899265,\n",
       "       0.26248324, 0.28110766, 0.2648804 , 0.27275709, 0.34279899,\n",
       "       0.3044261 , 0.30337429, 0.28442377, 0.30463484, 0.34492341,\n",
       "       0.3322285 , 0.30053685, 0.30326842, 0.28078166, 0.32806868,\n",
       "       0.34485317, 0.27241764, 0.27650953, 0.3076924 , 0.3071509 ,\n",
       "       0.29018069, 0.26135866, 0.23942059, 0.26473671, 0.25233941,\n",
       "       0.23060977, 0.17278841, 0.35165081, 0.31985537, 0.30489904,\n",
       "       0.27105749, 0.27179348, 0.35422818, 0.41541255, 0.37806792,\n",
       "       0.42491054, 0.50187318, 0.35762956, 0.36434342, 0.27654982,\n",
       "       0.28292169, 0.33842113, 0.24483884, 0.23020214, 0.34730794,\n",
       "       0.26015128, 0.2866849 , 0.29804592, 0.17049797, 0.23114088,\n",
       "       0.26946007, 0.21742126, 0.27414897, 0.30112277, 0.22878569,\n",
       "       0.33920963, 0.39816914, 0.29869326, 0.28141201, 0.30114969,\n",
       "       0.26475397, 0.2111425 , 0.25208659, 0.56310242, 0.61688205,\n",
       "       0.61448653, 0.49274104, 0.29036456, 0.2803142 , 0.26672957,\n",
       "       0.32267048, 0.31131675, 0.25676032, 0.25872132, 0.20867603,\n",
       "       0.31288607, 0.29842646, 0.28762121, 0.26877494, 0.23430165,\n",
       "       0.27371982, 0.40770718, 0.44674218, 0.32879134, 0.25635066,\n",
       "       0.22589729, 0.24161895, 0.23821541, 0.24065676, 0.27784597,\n",
       "       0.20679691, 0.20111337, 0.21261574, 0.22506318, 0.20535287,\n",
       "       0.26705862, 0.29774526, 0.24653626, 0.22238097, 0.2412652 ,\n",
       "       0.26342665, 0.25846091, 0.25425362, 0.21725009, 0.26391317,\n",
       "       0.3043446 , 0.2767081 , 0.24863009, 0.27371284, 0.22388791,\n",
       "       0.2728428 , 0.22758153, 0.26863897, 0.27398818, 0.21254179,\n",
       "       0.30208313, 0.2449493 , 0.2646355 , 0.26902948, 0.23817318,\n",
       "       0.26519956, 0.37013642, 0.36729902, 0.31622659, 0.36646287,\n",
       "       0.27876976, 0.3038962 , 0.31658776, 0.28898799, 0.28752481,\n",
       "       0.32249357, 0.28959507, 0.36685835, 0.40346428, 0.44229731,\n",
       "       0.31343935, 0.28613649, 0.35184011, 0.29364988, 0.28594723,\n",
       "       0.29366064, 0.26788422, 0.2685927 , 0.2146013 , 0.25955624,\n",
       "       0.24706218, 0.24249454, 0.2206738 , 0.23301151, 0.21212515,\n",
       "       0.27415094, 0.27543706, 0.21766748, 0.24612615, 0.23404538,\n",
       "       0.20518237, 0.20518237, 0.2923841 , 0.25575698, 0.25556078,\n",
       "       0.19274241, 0.24687562, 0.23230803, 0.2051459 , 0.22171217,\n",
       "       0.22270842, 0.25885544, 0.26091617, 0.25307829, 0.17542257])"
      ]
     },
     "execution_count": 86,
     "metadata": {},
     "output_type": "execute_result"
    }
   ],
   "source": [
    "cosine_score = calculate_cosine_similarity(embeddings, query_embedding)\n",
    "cosine_score"
   ]
  },
  {
   "cell_type": "code",
   "execution_count": 99,
   "id": "cdd19aae",
   "metadata": {},
   "outputs": [
    {
     "data": {
      "text/plain": [
       "array([0.61688205, 0.61448653, 0.56310242, 0.50187318, 0.49274104,\n",
       "       0.44674218, 0.44229731, 0.42491054, 0.41541255, 0.40770718,\n",
       "       0.40346428, 0.39816914, 0.37806792, 0.37013642, 0.36729902,\n",
       "       0.36685835, 0.36646287, 0.36434342, 0.35762956, 0.35422818,\n",
       "       0.35184011, 0.35165081, 0.34730794, 0.34492341, 0.34485317,\n",
       "       0.34279899, 0.33920963, 0.33842113, 0.33482823, 0.3322285 ,\n",
       "       0.32879134, 0.32806868, 0.32267048, 0.32249357, 0.31985537,\n",
       "       0.31658776, 0.31622659, 0.31343935, 0.31288607, 0.31131675,\n",
       "       0.3076924 , 0.3071509 , 0.30489904, 0.30463484, 0.3044261 ,\n",
       "       0.3043446 , 0.3038962 , 0.30337429, 0.30326842, 0.30208313,\n",
       "       0.30114969, 0.30112277, 0.30053685, 0.29869326, 0.29842646,\n",
       "       0.29804592, 0.29774526, 0.29366064, 0.29364988, 0.2923841 ,\n",
       "       0.29036456, 0.29018069, 0.28959507, 0.28899265, 0.28898799,\n",
       "       0.28762121, 0.28752481, 0.2866849 , 0.28613649, 0.28594723,\n",
       "       0.28442377, 0.28292169, 0.28245964, 0.28211596, 0.28141201,\n",
       "       0.28110766, 0.28078166, 0.2803142 , 0.27876976, 0.27784597,\n",
       "       0.2767081 , 0.27654982, 0.27650953, 0.27543706, 0.27415094,\n",
       "       0.27414897, 0.27398818, 0.27371982, 0.27371284, 0.2728428 ,\n",
       "       0.27275709, 0.27241764, 0.27179348, 0.27105749, 0.26946007,\n",
       "       0.26902948, 0.26877494, 0.26863897, 0.2685927 , 0.26788422,\n",
       "       0.26711238, 0.26705862, 0.26672957, 0.26519956, 0.2648804 ,\n",
       "       0.26475397, 0.26473671, 0.2646355 , 0.26391317, 0.26342665,\n",
       "       0.26248324, 0.26135866, 0.26091617, 0.26015128, 0.25955624,\n",
       "       0.25885544, 0.25872132, 0.25846091, 0.25676032, 0.25635066,\n",
       "       0.25575698, 0.25556078, 0.25425362, 0.25307829, 0.25233941,\n",
       "       0.25208659, 0.24863009, 0.24706218, 0.24687562, 0.24653626,\n",
       "       0.24612615, 0.2449493 , 0.24483884, 0.24249454, 0.24161895,\n",
       "       0.2412652 , 0.24065676, 0.23942059, 0.23821541, 0.23817318,\n",
       "       0.23430165, 0.23404538, 0.23301151, 0.23230803, 0.23114088,\n",
       "       0.23060977, 0.23020214, 0.22878569, 0.22758153, 0.22589729,\n",
       "       0.22506318, 0.22388791, 0.22270842, 0.22238097, 0.22171217,\n",
       "       0.2206738 , 0.21766748, 0.21742126, 0.21725009, 0.2146013 ,\n",
       "       0.21261574, 0.21254179, 0.21212515, 0.2111425 , 0.20867603,\n",
       "       0.20679691, 0.20535287, 0.20518237, 0.20518237, 0.2051459 ,\n",
       "       0.20111337, 0.19274241, 0.17542257, 0.17278841, 0.17049797])"
      ]
     },
     "execution_count": 99,
     "metadata": {},
     "output_type": "execute_result"
    }
   ],
   "source": [
    "np.sort(cosine_score)[::-1]"
   ]
  },
  {
   "cell_type": "code",
   "execution_count": null,
   "id": "c0992271",
   "metadata": {},
   "outputs": [],
   "source": []
  }
 ],
 "metadata": {
  "kernelspec": {
   "display_name": "agentic-rag",
   "language": "python",
   "name": "python3"
  },
  "language_info": {
   "codemirror_mode": {
    "name": "ipython",
    "version": 3
   },
   "file_extension": ".py",
   "mimetype": "text/x-python",
   "name": "python",
   "nbconvert_exporter": "python",
   "pygments_lexer": "ipython3",
   "version": "3.11.12"
  }
 },
 "nbformat": 4,
 "nbformat_minor": 5
}
